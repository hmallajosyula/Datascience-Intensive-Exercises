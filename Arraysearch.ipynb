{
 "cells": [
  {
   "cell_type": "markdown",
   "metadata": {},
   "source": [
    "Scenario A: Coding a simple function that returns true if element present in array"
   ]
  },
  {
   "cell_type": "code",
   "execution_count": 8,
   "metadata": {
    "collapsed": true
   },
   "outputs": [],
   "source": [
    "from time import time\n",
    "import sys"
   ]
  },
  {
   "cell_type": "code",
   "execution_count": 14,
   "metadata": {
    "collapsed": false
   },
   "outputs": [],
   "source": [
    "def simpleSearch(list,item):\n",
    "    t0=time()\n",
    "    if item in list:\n",
    "        t1=time()\n",
    "        print \"Computation time:\", round(t1-t0,8), \"s\"\n",
    "        return True"
   ]
  },
  {
   "cell_type": "code",
   "execution_count": 41,
   "metadata": {
    "collapsed": true
   },
   "outputs": [],
   "source": [
    "arr1=[10,5,7,20,35,67,19,101,200,55,6,88,9,1,2]\n",
    "arr2=[10,5,7,20,35,67,19,101,200,55,6,88,9,1,2,500,77,99,4545,23,8,999,3030,555,61,77,334,67676]"
   ]
  },
  {
   "cell_type": "code",
   "execution_count": 42,
   "metadata": {
    "collapsed": false
   },
   "outputs": [
    {
     "name": "stdout",
     "output_type": "stream",
     "text": [
      "Computation time: 9.5e-07 s\n",
      "True\n"
     ]
    }
   ],
   "source": [
    "print(simpleSearch(arr1,2))\n"
   ]
  },
  {
   "cell_type": "code",
   "execution_count": 43,
   "metadata": {
    "collapsed": false
   },
   "outputs": [
    {
     "name": "stdout",
     "output_type": "stream",
     "text": [
      "Computation time: 3.1e-06 s\n",
      "True\n"
     ]
    }
   ],
   "source": [
    "print(simpleSearch(arr2,67676))"
   ]
  },
  {
   "cell_type": "markdown",
   "metadata": {},
   "source": [
    "Step B1: Coding a function that sorts the array. Takes more time to sort the array than checking for a value by using the simpleSearch function"
   ]
  },
  {
   "cell_type": "code",
   "execution_count": 16,
   "metadata": {
    "collapsed": true
   },
   "outputs": [],
   "source": [
    "def listSort(list):\n",
    "    t0 = time()\n",
    "    list=sorted(list)\n",
    "    t1 = time()\n",
    "    print \"Computation time:\", round(t1-t0,8), \"s\"\n",
    "    return list"
   ]
  },
  {
   "cell_type": "code",
   "execution_count": 44,
   "metadata": {
    "collapsed": false
   },
   "outputs": [
    {
     "name": "stdout",
     "output_type": "stream",
     "text": [
      "Computation time: 7.15e-06 s\n",
      "[1, 2, 5, 6, 7, 9, 10, 19, 20, 35, 55, 67, 88, 101, 200]\n"
     ]
    }
   ],
   "source": [
    "print(listSort(arr1))"
   ]
  },
  {
   "cell_type": "code",
   "execution_count": 45,
   "metadata": {
    "collapsed": false
   },
   "outputs": [
    {
     "name": "stdout",
     "output_type": "stream",
     "text": [
      "Computation time: 8.11e-06 s\n",
      "[1, 2, 5, 6, 7, 8, 9, 10, 19, 20, 23, 35, 55, 61, 67, 77, 77, 88, 99, 101, 200, 334, 500, 555, 999, 3030, 4545, 67676]\n"
     ]
    }
   ],
   "source": [
    "print(listSort(arr2))"
   ]
  },
  {
   "cell_type": "markdown",
   "metadata": {},
   "source": [
    "Scenario B2: Performing a recursive search operation on a sorted array"
   ]
  },
  {
   "cell_type": "code",
   "execution_count": 38,
   "metadata": {
    "collapsed": false
   },
   "outputs": [],
   "source": [
    "def sortSearch(list,item):\n",
    "    midpoint = len(list)//2\n",
    "    if list[midpoint]==item:\n",
    "        t1=time()\n",
    "        print \"Computation time:\", round(t1-ta,8), \"s\"\n",
    "        return True\n",
    "    else:\n",
    "        if item<list[midpoint]:\n",
    "            return sortSearch(list[:midpoint],item)\n",
    "        if item>list[midpoint]:\n",
    "            return sortSearch(list[midpoint:],item)\n",
    "    "
   ]
  },
  {
   "cell_type": "code",
   "execution_count": 46,
   "metadata": {
    "collapsed": false
   },
   "outputs": [
    {
     "name": "stdout",
     "output_type": "stream",
     "text": [
      "Computation time: 9.298e-05 s\n",
      "True\n"
     ]
    }
   ],
   "source": [
    "ta=time()\n",
    "print(sortSearch(sorted(arr1),2))"
   ]
  },
  {
   "cell_type": "code",
   "execution_count": 47,
   "metadata": {
    "collapsed": false
   },
   "outputs": [
    {
     "name": "stdout",
     "output_type": "stream",
     "text": [
      "Computation time: 0.00011492 s\n",
      "True\n"
     ]
    }
   ],
   "source": [
    "ta=time()\n",
    "print(sortSearch(sorted(arr2),67676))"
   ]
  },
  {
   "cell_type": "code",
   "execution_count": null,
   "metadata": {
    "collapsed": true
   },
   "outputs": [],
   "source": []
  },
  {
   "cell_type": "code",
   "execution_count": null,
   "metadata": {
    "collapsed": true
   },
   "outputs": [],
   "source": []
  }
 ],
 "metadata": {
  "kernelspec": {
   "display_name": "Python 2",
   "language": "python",
   "name": "python2"
  },
  "language_info": {
   "codemirror_mode": {
    "name": "ipython",
    "version": 2
   },
   "file_extension": ".py",
   "mimetype": "text/x-python",
   "name": "python",
   "nbconvert_exporter": "python",
   "pygments_lexer": "ipython2",
   "version": "2.7.11"
  }
 },
 "nbformat": 4,
 "nbformat_minor": 0
}
