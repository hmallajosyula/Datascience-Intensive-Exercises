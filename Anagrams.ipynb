{
 "cells": [
  {
   "cell_type": "code",
   "execution_count": 28,
   "metadata": {
    "collapsed": true
   },
   "outputs": [],
   "source": [
    "from time import time\n",
    "import itertools\n",
    "import matplotlib.pyplot as plt\n",
    "%matplotlib inline"
   ]
  },
  {
   "cell_type": "code",
   "execution_count": 16,
   "metadata": {
    "collapsed": false
   },
   "outputs": [],
   "source": [
    "\n",
    "def anagramfn(list):\n",
    "    t0= time()\n",
    "    for word in list:\n",
    "        print [''.join(letter)for letter in itertools.permutations(word)]\n",
    "    t1 = time()\n",
    "    print \"Elapsed time in seconds: %2f\" %(t1-t0)\n",
    "    "
   ]
  },
  {
   "cell_type": "code",
   "execution_count": 17,
   "metadata": {
    "collapsed": true
   },
   "outputs": [],
   "source": [
    "list=['act','mat','star','dam','arts','libya']"
   ]
  },
  {
   "cell_type": "code",
   "execution_count": 20,
   "metadata": {
    "collapsed": true
   },
   "outputs": [],
   "source": [
    "list1=['act','mat','star','dam','arts','libya','act','mat','star','dam','arts','libya']"
   ]
  },
  {
   "cell_type": "code",
   "execution_count": 22,
   "metadata": {
    "collapsed": true
   },
   "outputs": [],
   "source": [
    "list2=['act','mat','star','dam','arts','libya','act','mat','star','dam','arts','libya','act','mat','star','dam','arts','libya']"
   ]
  },
  {
   "cell_type": "code",
   "execution_count": 18,
   "metadata": {
    "collapsed": false
   },
   "outputs": [
    {
     "name": "stdout",
     "output_type": "stream",
     "text": [
      "['act', 'atc', 'cat', 'cta', 'tac', 'tca']\n",
      "['mat', 'mta', 'amt', 'atm', 'tma', 'tam']\n",
      "['star', 'stra', 'satr', 'sart', 'srta', 'srat', 'tsar', 'tsra', 'tasr', 'tars', 'trsa', 'tras', 'astr', 'asrt', 'atsr', 'atrs', 'arst', 'arts', 'rsta', 'rsat', 'rtsa', 'rtas', 'rast', 'rats']\n",
      "['dam', 'dma', 'adm', 'amd', 'mda', 'mad']\n",
      "['arts', 'arst', 'atrs', 'atsr', 'asrt', 'astr', 'rats', 'rast', 'rtas', 'rtsa', 'rsat', 'rsta', 'tars', 'tasr', 'tras', 'trsa', 'tsar', 'tsra', 'sart', 'satr', 'srat', 'srta', 'star', 'stra']\n",
      "['libya', 'libay', 'liyba', 'liyab', 'liaby', 'liayb', 'lbiya', 'lbiay', 'lbyia', 'lbyai', 'lbaiy', 'lbayi', 'lyiba', 'lyiab', 'lybia', 'lybai', 'lyaib', 'lyabi', 'laiby', 'laiyb', 'labiy', 'labyi', 'layib', 'laybi', 'ilbya', 'ilbay', 'ilyba', 'ilyab', 'ilaby', 'ilayb', 'iblya', 'iblay', 'ibyla', 'ibyal', 'ibaly', 'ibayl', 'iylba', 'iylab', 'iybla', 'iybal', 'iyalb', 'iyabl', 'ialby', 'ialyb', 'iably', 'iabyl', 'iaylb', 'iaybl', 'bliya', 'bliay', 'blyia', 'blyai', 'blaiy', 'blayi', 'bilya', 'bilay', 'biyla', 'biyal', 'bialy', 'biayl', 'bylia', 'bylai', 'byila', 'byial', 'byali', 'byail', 'baliy', 'balyi', 'baily', 'baiyl', 'bayli', 'bayil', 'yliba', 'yliab', 'ylbia', 'ylbai', 'ylaib', 'ylabi', 'yilba', 'yilab', 'yibla', 'yibal', 'yialb', 'yiabl', 'yblia', 'yblai', 'ybila', 'ybial', 'ybali', 'ybail', 'yalib', 'yalbi', 'yailb', 'yaibl', 'yabli', 'yabil', 'aliby', 'aliyb', 'albiy', 'albyi', 'alyib', 'alybi', 'ailby', 'ailyb', 'aibly', 'aibyl', 'aiylb', 'aiybl', 'abliy', 'ablyi', 'abily', 'abiyl', 'abyli', 'abyil', 'aylib', 'aylbi', 'ayilb', 'ayibl', 'aybli', 'aybil']\n",
      "Elapsed time in seconds: 0.000228\n"
     ]
    }
   ],
   "source": [
    "anagramfn(list)"
   ]
  },
  {
   "cell_type": "code",
   "execution_count": 21,
   "metadata": {
    "collapsed": false
   },
   "outputs": [
    {
     "name": "stdout",
     "output_type": "stream",
     "text": [
      "['act', 'atc', 'cat', 'cta', 'tac', 'tca']\n",
      "['mat', 'mta', 'amt', 'atm', 'tma', 'tam']\n",
      "['star', 'stra', 'satr', 'sart', 'srta', 'srat', 'tsar', 'tsra', 'tasr', 'tars', 'trsa', 'tras', 'astr', 'asrt', 'atsr', 'atrs', 'arst', 'arts', 'rsta', 'rsat', 'rtsa', 'rtas', 'rast', 'rats']\n",
      "['dam', 'dma', 'adm', 'amd', 'mda', 'mad']\n",
      "['arts', 'arst', 'atrs', 'atsr', 'asrt', 'astr', 'rats', 'rast', 'rtas', 'rtsa', 'rsat', 'rsta', 'tars', 'tasr', 'tras', 'trsa', 'tsar', 'tsra', 'sart', 'satr', 'srat', 'srta', 'star', 'stra']\n",
      "['libya', 'libay', 'liyba', 'liyab', 'liaby', 'liayb', 'lbiya', 'lbiay', 'lbyia', 'lbyai', 'lbaiy', 'lbayi', 'lyiba', 'lyiab', 'lybia', 'lybai', 'lyaib', 'lyabi', 'laiby', 'laiyb', 'labiy', 'labyi', 'layib', 'laybi', 'ilbya', 'ilbay', 'ilyba', 'ilyab', 'ilaby', 'ilayb', 'iblya', 'iblay', 'ibyla', 'ibyal', 'ibaly', 'ibayl', 'iylba', 'iylab', 'iybla', 'iybal', 'iyalb', 'iyabl', 'ialby', 'ialyb', 'iably', 'iabyl', 'iaylb', 'iaybl', 'bliya', 'bliay', 'blyia', 'blyai', 'blaiy', 'blayi', 'bilya', 'bilay', 'biyla', 'biyal', 'bialy', 'biayl', 'bylia', 'bylai', 'byila', 'byial', 'byali', 'byail', 'baliy', 'balyi', 'baily', 'baiyl', 'bayli', 'bayil', 'yliba', 'yliab', 'ylbia', 'ylbai', 'ylaib', 'ylabi', 'yilba', 'yilab', 'yibla', 'yibal', 'yialb', 'yiabl', 'yblia', 'yblai', 'ybila', 'ybial', 'ybali', 'ybail', 'yalib', 'yalbi', 'yailb', 'yaibl', 'yabli', 'yabil', 'aliby', 'aliyb', 'albiy', 'albyi', 'alyib', 'alybi', 'ailby', 'ailyb', 'aibly', 'aibyl', 'aiylb', 'aiybl', 'abliy', 'ablyi', 'abily', 'abiyl', 'abyli', 'abyil', 'aylib', 'aylbi', 'ayilb', 'ayibl', 'aybli', 'aybil']\n",
      "['act', 'atc', 'cat', 'cta', 'tac', 'tca']\n",
      "['mat', 'mta', 'amt', 'atm', 'tma', 'tam']\n",
      "['star', 'stra', 'satr', 'sart', 'srta', 'srat', 'tsar', 'tsra', 'tasr', 'tars', 'trsa', 'tras', 'astr', 'asrt', 'atsr', 'atrs', 'arst', 'arts', 'rsta', 'rsat', 'rtsa', 'rtas', 'rast', 'rats']\n",
      "['dam', 'dma', 'adm', 'amd', 'mda', 'mad']\n",
      "['arts', 'arst', 'atrs', 'atsr', 'asrt', 'astr', 'rats', 'rast', 'rtas', 'rtsa', 'rsat', 'rsta', 'tars', 'tasr', 'tras', 'trsa', 'tsar', 'tsra', 'sart', 'satr', 'srat', 'srta', 'star', 'stra']\n",
      "['libya', 'libay', 'liyba', 'liyab', 'liaby', 'liayb', 'lbiya', 'lbiay', 'lbyia', 'lbyai', 'lbaiy', 'lbayi', 'lyiba', 'lyiab', 'lybia', 'lybai', 'lyaib', 'lyabi', 'laiby', 'laiyb', 'labiy', 'labyi', 'layib', 'laybi', 'ilbya', 'ilbay', 'ilyba', 'ilyab', 'ilaby', 'ilayb', 'iblya', 'iblay', 'ibyla', 'ibyal', 'ibaly', 'ibayl', 'iylba', 'iylab', 'iybla', 'iybal', 'iyalb', 'iyabl', 'ialby', 'ialyb', 'iably', 'iabyl', 'iaylb', 'iaybl', 'bliya', 'bliay', 'blyia', 'blyai', 'blaiy', 'blayi', 'bilya', 'bilay', 'biyla', 'biyal', 'bialy', 'biayl', 'bylia', 'bylai', 'byila', 'byial', 'byali', 'byail', 'baliy', 'balyi', 'baily', 'baiyl', 'bayli', 'bayil', 'yliba', 'yliab', 'ylbia', 'ylbai', 'ylaib', 'ylabi', 'yilba', 'yilab', 'yibla', 'yibal', 'yialb', 'yiabl', 'yblia', 'yblai', 'ybila', 'ybial', 'ybali', 'ybail', 'yalib', 'yalbi', 'yailb', 'yaibl', 'yabli', 'yabil', 'aliby', 'aliyb', 'albiy', 'albyi', 'alyib', 'alybi', 'ailby', 'ailyb', 'aibly', 'aibyl', 'aiylb', 'aiybl', 'abliy', 'ablyi', 'abily', 'abiyl', 'abyli', 'abyil', 'aylib', 'aylbi', 'ayilb', 'ayibl', 'aybli', 'aybil']\n",
      "Elapsed time in seconds: 0.000389\n"
     ]
    }
   ],
   "source": [
    "anagramfn(list1)"
   ]
  },
  {
   "cell_type": "code",
   "execution_count": 23,
   "metadata": {
    "collapsed": false
   },
   "outputs": [
    {
     "name": "stdout",
     "output_type": "stream",
     "text": [
      "['act', 'atc', 'cat', 'cta', 'tac', 'tca']\n",
      "['mat', 'mta', 'amt', 'atm', 'tma', 'tam']\n",
      "['star', 'stra', 'satr', 'sart', 'srta', 'srat', 'tsar', 'tsra', 'tasr', 'tars', 'trsa', 'tras', 'astr', 'asrt', 'atsr', 'atrs', 'arst', 'arts', 'rsta', 'rsat', 'rtsa', 'rtas', 'rast', 'rats']\n",
      "['dam', 'dma', 'adm', 'amd', 'mda', 'mad']\n",
      "['arts', 'arst', 'atrs', 'atsr', 'asrt', 'astr', 'rats', 'rast', 'rtas', 'rtsa', 'rsat', 'rsta', 'tars', 'tasr', 'tras', 'trsa', 'tsar', 'tsra', 'sart', 'satr', 'srat', 'srta', 'star', 'stra']\n",
      "['libya', 'libay', 'liyba', 'liyab', 'liaby', 'liayb', 'lbiya', 'lbiay', 'lbyia', 'lbyai', 'lbaiy', 'lbayi', 'lyiba', 'lyiab', 'lybia', 'lybai', 'lyaib', 'lyabi', 'laiby', 'laiyb', 'labiy', 'labyi', 'layib', 'laybi', 'ilbya', 'ilbay', 'ilyba', 'ilyab', 'ilaby', 'ilayb', 'iblya', 'iblay', 'ibyla', 'ibyal', 'ibaly', 'ibayl', 'iylba', 'iylab', 'iybla', 'iybal', 'iyalb', 'iyabl', 'ialby', 'ialyb', 'iably', 'iabyl', 'iaylb', 'iaybl', 'bliya', 'bliay', 'blyia', 'blyai', 'blaiy', 'blayi', 'bilya', 'bilay', 'biyla', 'biyal', 'bialy', 'biayl', 'bylia', 'bylai', 'byila', 'byial', 'byali', 'byail', 'baliy', 'balyi', 'baily', 'baiyl', 'bayli', 'bayil', 'yliba', 'yliab', 'ylbia', 'ylbai', 'ylaib', 'ylabi', 'yilba', 'yilab', 'yibla', 'yibal', 'yialb', 'yiabl', 'yblia', 'yblai', 'ybila', 'ybial', 'ybali', 'ybail', 'yalib', 'yalbi', 'yailb', 'yaibl', 'yabli', 'yabil', 'aliby', 'aliyb', 'albiy', 'albyi', 'alyib', 'alybi', 'ailby', 'ailyb', 'aibly', 'aibyl', 'aiylb', 'aiybl', 'abliy', 'ablyi', 'abily', 'abiyl', 'abyli', 'abyil', 'aylib', 'aylbi', 'ayilb', 'ayibl', 'aybli', 'aybil']\n",
      "['act', 'atc', 'cat', 'cta', 'tac', 'tca']\n",
      "['mat', 'mta', 'amt', 'atm', 'tma', 'tam']\n",
      "['star', 'stra', 'satr', 'sart', 'srta', 'srat', 'tsar', 'tsra', 'tasr', 'tars', 'trsa', 'tras', 'astr', 'asrt', 'atsr', 'atrs', 'arst', 'arts', 'rsta', 'rsat', 'rtsa', 'rtas', 'rast', 'rats']\n",
      "['dam', 'dma', 'adm', 'amd', 'mda', 'mad']\n",
      "['arts', 'arst', 'atrs', 'atsr', 'asrt', 'astr', 'rats', 'rast', 'rtas', 'rtsa', 'rsat', 'rsta', 'tars', 'tasr', 'tras', 'trsa', 'tsar', 'tsra', 'sart', 'satr', 'srat', 'srta', 'star', 'stra']\n",
      "['libya', 'libay', 'liyba', 'liyab', 'liaby', 'liayb', 'lbiya', 'lbiay', 'lbyia', 'lbyai', 'lbaiy', 'lbayi', 'lyiba', 'lyiab', 'lybia', 'lybai', 'lyaib', 'lyabi', 'laiby', 'laiyb', 'labiy', 'labyi', 'layib', 'laybi', 'ilbya', 'ilbay', 'ilyba', 'ilyab', 'ilaby', 'ilayb', 'iblya', 'iblay', 'ibyla', 'ibyal', 'ibaly', 'ibayl', 'iylba', 'iylab', 'iybla', 'iybal', 'iyalb', 'iyabl', 'ialby', 'ialyb', 'iably', 'iabyl', 'iaylb', 'iaybl', 'bliya', 'bliay', 'blyia', 'blyai', 'blaiy', 'blayi', 'bilya', 'bilay', 'biyla', 'biyal', 'bialy', 'biayl', 'bylia', 'bylai', 'byila', 'byial', 'byali', 'byail', 'baliy', 'balyi', 'baily', 'baiyl', 'bayli', 'bayil', 'yliba', 'yliab', 'ylbia', 'ylbai', 'ylaib', 'ylabi', 'yilba', 'yilab', 'yibla', 'yibal', 'yialb', 'yiabl', 'yblia', 'yblai', 'ybila', 'ybial', 'ybali', 'ybail', 'yalib', 'yalbi', 'yailb', 'yaibl', 'yabli', 'yabil', 'aliby', 'aliyb', 'albiy', 'albyi', 'alyib', 'alybi', 'ailby', 'ailyb', 'aibly', 'aibyl', 'aiylb', 'aiybl', 'abliy', 'ablyi', 'abily', 'abiyl', 'abyli', 'abyil', 'aylib', 'aylbi', 'ayilb', 'ayibl', 'aybli', 'aybil']\n",
      "['act', 'atc', 'cat', 'cta', 'tac', 'tca']\n",
      "['mat', 'mta', 'amt', 'atm', 'tma', 'tam']\n",
      "['star', 'stra', 'satr', 'sart', 'srta', 'srat', 'tsar', 'tsra', 'tasr', 'tars', 'trsa', 'tras', 'astr', 'asrt', 'atsr', 'atrs', 'arst', 'arts', 'rsta', 'rsat', 'rtsa', 'rtas', 'rast', 'rats']\n",
      "['dam', 'dma', 'adm', 'amd', 'mda', 'mad']\n",
      "['arts', 'arst', 'atrs', 'atsr', 'asrt', 'astr', 'rats', 'rast', 'rtas', 'rtsa', 'rsat', 'rsta', 'tars', 'tasr', 'tras', 'trsa', 'tsar', 'tsra', 'sart', 'satr', 'srat', 'srta', 'star', 'stra']\n",
      "['libya', 'libay', 'liyba', 'liyab', 'liaby', 'liayb', 'lbiya', 'lbiay', 'lbyia', 'lbyai', 'lbaiy', 'lbayi', 'lyiba', 'lyiab', 'lybia', 'lybai', 'lyaib', 'lyabi', 'laiby', 'laiyb', 'labiy', 'labyi', 'layib', 'laybi', 'ilbya', 'ilbay', 'ilyba', 'ilyab', 'ilaby', 'ilayb', 'iblya', 'iblay', 'ibyla', 'ibyal', 'ibaly', 'ibayl', 'iylba', 'iylab', 'iybla', 'iybal', 'iyalb', 'iyabl', 'ialby', 'ialyb', 'iably', 'iabyl', 'iaylb', 'iaybl', 'bliya', 'bliay', 'blyia', 'blyai', 'blaiy', 'blayi', 'bilya', 'bilay', 'biyla', 'biyal', 'bialy', 'biayl', 'bylia', 'bylai', 'byila', 'byial', 'byali', 'byail', 'baliy', 'balyi', 'baily', 'baiyl', 'bayli', 'bayil', 'yliba', 'yliab', 'ylbia', 'ylbai', 'ylaib', 'ylabi', 'yilba', 'yilab', 'yibla', 'yibal', 'yialb', 'yiabl', 'yblia', 'yblai', 'ybila', 'ybial', 'ybali', 'ybail', 'yalib', 'yalbi', 'yailb', 'yaibl', 'yabli', 'yabil', 'aliby', 'aliyb', 'albiy', 'albyi', 'alyib', 'alybi', 'ailby', 'ailyb', 'aibly', 'aibyl', 'aiylb', 'aiybl', 'abliy', 'ablyi', 'abily', 'abiyl', 'abyli', 'abyil', 'aylib', 'aylbi', 'ayilb', 'ayibl', 'aybli', 'aybil']\n",
      "Elapsed time in seconds: 0.000706\n"
     ]
    }
   ],
   "source": [
    "anagramfn(list2)"
   ]
  },
  {
   "cell_type": "markdown",
   "metadata": {},
   "source": [
    "Big O Notation: As size of the list increases, the time taken to compute is linearly proprtional.\n",
    "\n",
    "1) For a list with 5 items: time = 0.00022\n",
    "2) For a list with 10 items: time = 0.000389\n",
    "3) For a list of 15 items: time = 0.000706\n",
    "\n",
    "We can see a linear relationship between # of items and time. (Plot below)\n"
   ]
  },
  {
   "cell_type": "code",
   "execution_count": 25,
   "metadata": {
    "collapsed": true
   },
   "outputs": [],
   "source": [
    "x = [5,10,15]"
   ]
  },
  {
   "cell_type": "code",
   "execution_count": 26,
   "metadata": {
    "collapsed": true
   },
   "outputs": [],
   "source": [
    "y = [0.00022,0.000389,0.000706]"
   ]
  },
  {
   "cell_type": "code",
   "execution_count": 31,
   "metadata": {
    "collapsed": false
   },
   "outputs": [
    {
     "data": {
      "text/plain": [
       "<matplotlib.text.Text at 0x10c239810>"
      ]
     },
     "execution_count": 31,
     "metadata": {},
     "output_type": "execute_result"
    },
    {
     "data": {
      "image/png": "[encoded data removed]",
      "text/plain": [
       "<matplotlib.figure.Figure at 0x109e8c8d0>"
      ]
     },
     "metadata": {},
     "output_type": "display_data"
    }
   ],
   "source": [
    "plt.plot(x,y)\n",
    "plt.ylabel('Elapsed Time in seconds')\n",
    "plt.xlabel('#of list elements')"
   ]
  },
  {
   "cell_type": "code",
   "execution_count": null,
   "metadata": {
    "collapsed": true
   },
   "outputs": [],
   "source": []
  },
  {
   "cell_type": "code",
   "execution_count": null,
   "metadata": {
    "collapsed": true
   },
   "outputs": [],
   "source": []
  },
  {
   "cell_type": "code",
   "execution_count": null,
   "metadata": {
    "collapsed": true
   },
   "outputs": [],
   "source": []
  },
  {
   "cell_type": "code",
   "execution_count": null,
   "metadata": {
    "collapsed": true
   },
   "outputs": [],
   "source": []
  },
  {
   "cell_type": "code",
   "execution_count": null,
   "metadata": {
    "collapsed": true
   },
   "outputs": [],
   "source": []
  },
  {
   "cell_type": "code",
   "execution_count": null,
   "metadata": {
    "collapsed": true
   },
   "outputs": [],
   "source": []
  },
  {
   "cell_type": "code",
   "execution_count": null,
   "metadata": {
    "collapsed": true
   },
   "outputs": [],
   "source": []
  },
  {
   "cell_type": "code",
   "execution_count": null,
   "metadata": {
    "collapsed": true
   },
   "outputs": [],
   "source": []
  },
  {
   "cell_type": "code",
   "execution_count": null,
   "metadata": {
    "collapsed": true
   },
   "outputs": [],
   "source": []
  }
 ],
 "metadata": {
  "kernelspec": {
   "display_name": "Python 2",
   "language": "python",
   "name": "python2"
  },
  "language_info": {
   "codemirror_mode": {
    "name": "ipython",
    "version": 2
   },
   "file_extension": ".py",
   "mimetype": "text/x-python",
   "name": "python",
   "nbconvert_exporter": "python",
   "pygments_lexer": "ipython2",
   "version": "2.7.11"
  }
 },
 "nbformat": 4,
 "nbformat_minor": 0
}
