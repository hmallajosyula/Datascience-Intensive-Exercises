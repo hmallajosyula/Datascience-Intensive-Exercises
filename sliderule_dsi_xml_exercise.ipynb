{
 "cells": [
  {
   "cell_type": "markdown",
   "metadata": {},
   "source": [
    "# XML example and exercise\n",
    "****\n",
    "+ study examples of accessing nodes in XML tree structure  \n",
    "+ work on exercise to be completed and submitted\n",
    "****\n",
    "+ reference: https://docs.python.org/2.7/library/xml.etree.elementtree.html\n",
    "+ data source: http://www.dbis.informatik.uni-goettingen.de/Mondial\n",
    "****"
   ]
  },
  {
   "cell_type": "code",
   "execution_count": 2,
   "metadata": {
    "collapsed": true
   },
   "outputs": [],
   "source": [
    "from xml.etree import ElementTree as ET"
   ]
  },
  {
   "cell_type": "markdown",
   "metadata": {},
   "source": [
    "## XML example\n",
    "\n",
    "+ for details about tree traversal and iterators, see https://docs.python.org/2.7/library/xml.etree.elementtree.html"
   ]
  },
  {
   "cell_type": "code",
   "execution_count": 3,
   "metadata": {
    "collapsed": true
   },
   "outputs": [],
   "source": [
    "document_tree = ET.parse( './data/mondial_database_less.xml' )"
   ]
  },
  {
   "cell_type": "code",
   "execution_count": 4,
   "metadata": {
    "collapsed": false
   },
   "outputs": [
    {
     "name": "stdout",
     "output_type": "stream",
     "text": [
      "Albania\n",
      "Greece\n",
      "Macedonia\n",
      "Serbia\n",
      "Montenegro\n",
      "Kosovo\n",
      "Andorra\n"
     ]
    }
   ],
   "source": [
    "# print names of all countries\n",
    "for child in document_tree.getroot():\n",
    "    print child.find('name').text"
   ]
  },
  {
   "cell_type": "code",
   "execution_count": 5,
   "metadata": {
    "collapsed": false
   },
   "outputs": [
    {
     "name": "stdout",
     "output_type": "stream",
     "text": [
      "* Albania: Tirana, Shkodër, Durrës, Vlorë, Elbasan, Korçë\n",
      "* Greece: Komotini, Kavala, Athina, Peiraias, Peristeri, Acharnes, Patra, Kozani, Kerkyra, Ioannina, Thessaloniki, Iraklio, Chania, Ermoupoli, Rhodes, Tripoli, Lamia, Chalkida, Larissa, Volos, Mytilini, Karyes\n",
      "* Macedonia: Skopje, Kumanovo\n",
      "* Serbia: Beograd, Novi Sad, Niš\n",
      "* Montenegro: Podgorica\n",
      "* Kosovo: Prishtine\n",
      "* Andorra: Andorra la Vella\n"
     ]
    }
   ],
   "source": [
    "# print names of all countries and their cities\n",
    "for element in document_tree.iterfind('country'):\n",
    "    print '* ' + element.find('name').text + ':',\n",
    "    capitals_string = ''\n",
    "    for subelement in element.getiterator('city'):\n",
    "        capitals_string += subelement.find('name').text + ', '\n",
    "    print capitals_string[:-2]"
   ]
  },
  {
   "cell_type": "markdown",
   "metadata": {},
   "source": [
    "****\n",
    "## XML exercise\n",
    "\n",
    "Using data in 'data/mondial_database.xml', the examples above, and refering to https://docs.python.org/2.7/library/xml.etree.elementtree.html, find\n",
    "\n",
    "1. 10 countries with the lowest infant mortality rates\n",
    "2. 10 cities with the largest population\n",
    "3. 10 ethnic groups with the largest overall populations (sum of best/latest estimates over all countries)\n",
    "4. name and country of a) longest river, b) largest lake and c) airport at highest elevation"
   ]
  },
  {
   "cell_type": "code",
   "execution_count": 3,
   "metadata": {
    "collapsed": false
   },
   "outputs": [],
   "source": [
    "document = ET.parse( './data/mondial_database.xml' )"
   ]
  },
  {
   "cell_type": "code",
   "execution_count": 17,
   "metadata": {
    "collapsed": false
   },
   "outputs": [
    {
     "data": {
      "text/html": [
       "<div style=\"max-height:1000px;max-width:1500px;overflow:auto;\">\n",
       "<table border=\"1\" class=\"dataframe\">\n",
       "  <thead>\n",
       "    <tr style=\"text-align: right;\">\n",
       "      <th></th>\n",
       "      <th>country</th>\n",
       "      <th>mortality</th>\n",
       "    </tr>\n",
       "  </thead>\n",
       "  <tbody>\n",
       "    <tr>\n",
       "      <th>36 </th>\n",
       "      <td>         Monaco</td>\n",
       "      <td> 1.81</td>\n",
       "    </tr>\n",
       "    <tr>\n",
       "      <th>90 </th>\n",
       "      <td>          Japan</td>\n",
       "      <td> 2.13</td>\n",
       "    </tr>\n",
       "    <tr>\n",
       "      <th>109</th>\n",
       "      <td>        Bermuda</td>\n",
       "      <td> 2.48</td>\n",
       "    </tr>\n",
       "    <tr>\n",
       "      <th>34 </th>\n",
       "      <td>         Norway</td>\n",
       "      <td> 2.48</td>\n",
       "    </tr>\n",
       "    <tr>\n",
       "      <th>98 </th>\n",
       "      <td>      Singapore</td>\n",
       "      <td> 2.53</td>\n",
       "    </tr>\n",
       "    <tr>\n",
       "      <th>35 </th>\n",
       "      <td>         Sweden</td>\n",
       "      <td> 2.60</td>\n",
       "    </tr>\n",
       "    <tr>\n",
       "      <th>8  </th>\n",
       "      <td> Czech Republic</td>\n",
       "      <td> 2.63</td>\n",
       "    </tr>\n",
       "    <tr>\n",
       "      <th>72 </th>\n",
       "      <td>      Hong Kong</td>\n",
       "      <td> 2.73</td>\n",
       "    </tr>\n",
       "    <tr>\n",
       "      <th>73 </th>\n",
       "      <td>          Macao</td>\n",
       "      <td> 3.13</td>\n",
       "    </tr>\n",
       "    <tr>\n",
       "      <th>39 </th>\n",
       "      <td>        Iceland</td>\n",
       "      <td> 3.15</td>\n",
       "    </tr>\n",
       "  </tbody>\n",
       "</table>\n",
       "</div>"
      ],
      "text/plain": [
       "            country  mortality\n",
       "36           Monaco       1.81\n",
       "90            Japan       2.13\n",
       "109         Bermuda       2.48\n",
       "34           Norway       2.48\n",
       "98        Singapore       2.53\n",
       "35           Sweden       2.60\n",
       "8    Czech Republic       2.63\n",
       "72        Hong Kong       2.73\n",
       "73            Macao       3.13\n",
       "39          Iceland       3.15"
      ]
     },
     "execution_count": 17,
     "metadata": {},
     "output_type": "execute_result"
    }
   ],
   "source": [
    "#10 countries with the lowest infant mortality rate\n",
    "import pandas as pd\n",
    "col1 = []\n",
    "col2 = []\n",
    "for child in document.getroot():\n",
    "    if (child.find('infant_mortality') != None) & (child.find('name') != None) :\n",
    "        col1.append(child.find('infant_mortality').text)\n",
    "        col2.append(child.find('name').text)\n",
    "d = {'country' : col2,\n",
    "     'mortality' : col1}\n",
    "df = pd.DataFrame(d)\n",
    "df.mortality = df.mortality.astype('float')\n",
    "df.sort('mortality').head(10)"
   ]
  },
  {
   "cell_type": "code",
   "execution_count": 25,
   "metadata": {
    "collapsed": false
   },
   "outputs": [
    {
     "data": {
      "text/html": [
       "<div style=\"max-height:1000px;max-width:1500px;overflow:auto;\">\n",
       "<table border=\"1\" class=\"dataframe\">\n",
       "  <thead>\n",
       "    <tr style=\"text-align: right;\">\n",
       "      <th></th>\n",
       "      <th>city</th>\n",
       "      <th>population</th>\n",
       "    </tr>\n",
       "  </thead>\n",
       "  <tbody>\n",
       "    <tr>\n",
       "      <th>1251</th>\n",
       "      <td>  Shanghai</td>\n",
       "      <td> 22315474</td>\n",
       "    </tr>\n",
       "    <tr>\n",
       "      <th>707 </th>\n",
       "      <td>  Istanbul</td>\n",
       "      <td> 13710512</td>\n",
       "    </tr>\n",
       "    <tr>\n",
       "      <th>1421</th>\n",
       "      <td>    Mumbai</td>\n",
       "      <td> 12442373</td>\n",
       "    </tr>\n",
       "    <tr>\n",
       "      <th>443 </th>\n",
       "      <td>    Moskva</td>\n",
       "      <td> 11979529</td>\n",
       "    </tr>\n",
       "    <tr>\n",
       "      <th>1250</th>\n",
       "      <td>   Beijing</td>\n",
       "      <td> 11716620</td>\n",
       "    </tr>\n",
       "    <tr>\n",
       "      <th>2594</th>\n",
       "      <td> São Paulo</td>\n",
       "      <td> 11152344</td>\n",
       "    </tr>\n",
       "    <tr>\n",
       "      <th>1252</th>\n",
       "      <td>   Tianjin</td>\n",
       "      <td> 11090314</td>\n",
       "    </tr>\n",
       "    <tr>\n",
       "      <th>974 </th>\n",
       "      <td> Guangzhou</td>\n",
       "      <td> 11071424</td>\n",
       "    </tr>\n",
       "    <tr>\n",
       "      <th>1467</th>\n",
       "      <td>     Delhi</td>\n",
       "      <td> 11034555</td>\n",
       "    </tr>\n",
       "    <tr>\n",
       "      <th>977 </th>\n",
       "      <td>  Shenzhen</td>\n",
       "      <td> 10358381</td>\n",
       "    </tr>\n",
       "  </tbody>\n",
       "</table>\n",
       "</div>"
      ],
      "text/plain": [
       "           city  population\n",
       "1251   Shanghai    22315474\n",
       "707    Istanbul    13710512\n",
       "1421     Mumbai    12442373\n",
       "443      Moskva    11979529\n",
       "1250    Beijing    11716620\n",
       "2594  São Paulo    11152344\n",
       "1252    Tianjin    11090314\n",
       "974   Guangzhou    11071424\n",
       "1467      Delhi    11034555\n",
       "977    Shenzhen    10358381"
      ]
     },
     "execution_count": 25,
     "metadata": {},
     "output_type": "execute_result"
    }
   ],
   "source": [
    "#10 cities with the largest population\n",
    "col1 = []\n",
    "col2 = []\n",
    "for element in document.iterfind('country'):\n",
    "    for subelement in element.getiterator('city'):\n",
    "        if(subelement.find('population') != None):\n",
    "            col1.append(subelement.find('name').text)\n",
    "            col2.append(subelement.findall('population')[-1].text)\n",
    "    \n",
    "d = {'population' : col2,\n",
    "     'city' : col1}\n",
    "df = pd.DataFrame(d)\n",
    "df['population'] = df['population'].astype(float)\n",
    "df = df.sort('population', ascending = False)\n",
    "df.head(10)"
   ]
  },
  {
   "cell_type": "code",
   "execution_count": 34,
   "metadata": {
    "collapsed": false
   },
   "outputs": [
    {
     "data": {
      "text/plain": [
       "ethnic group\n",
       "Han Chinese     1.245059e+09\n",
       "Indo-Aryan      8.718156e+08\n",
       "European        4.948722e+08\n",
       "African         3.183251e+08\n",
       "Dravidian       3.027137e+08\n",
       "Mestizo         1.577344e+08\n",
       "Bengali         1.467769e+08\n",
       "Russian         1.318570e+08\n",
       "Japanese        1.265342e+08\n",
       "Malay           1.219936e+08\n",
       "Name: ethnic population, dtype: float64"
      ]
     },
     "execution_count": 34,
     "metadata": {},
     "output_type": "execute_result"
    }
   ],
   "source": [
    "#10 ethnic groups with the largest overall populations (sum of best/latest estimates over all countries)\n",
    "col1 = []\n",
    "col2 = []\n",
    "col3 = []\n",
    "for child in document.getroot():\n",
    "    if (child.find('ethnicgroup') != None):\n",
    "        for i in range(len(child.findall('ethnicgroup'))):\n",
    "            col1.append(child.findall('ethnicgroup')[i].text)\n",
    "            col2.append(child.findall('ethnicgroup')[i].attrib['percentage'])\n",
    "            col3.append(child.findall('population')[-1].text)\n",
    "\n",
    "d = {'ethnic group' : col1,\n",
    "     'percentage' : col2,\n",
    "     'population' : col3 }\n",
    "\n",
    "df = pd.DataFrame(d)\n",
    "df['population'] = df['population'].astype(float)\n",
    "df['percentage'] = df['percentage'].astype(float)\n",
    "df['ethnic population'] = df['population'] * df['percentage'] /100\n",
    "df.groupby('ethnic group')['ethnic population'].sum().order('real population', ascending = False).head(10)"
   ]
  },
  {
   "cell_type": "code",
   "execution_count": 40,
   "metadata": {
    "collapsed": false
   },
   "outputs": [
    {
     "data": {
      "text/html": [
       "<div style=\"max-height:1000px;max-width:1500px;overflow:auto;\">\n",
       "<table border=\"1\" class=\"dataframe\">\n",
       "  <thead>\n",
       "    <tr style=\"text-align: right;\">\n",
       "      <th></th>\n",
       "      <th>country</th>\n",
       "      <th>length</th>\n",
       "      <th>river name</th>\n",
       "    </tr>\n",
       "  </thead>\n",
       "  <tbody>\n",
       "    <tr>\n",
       "      <th>164</th>\n",
       "      <td> CO</td>\n",
       "      <td> 6448</td>\n",
       "      <td> Amazonas</td>\n",
       "    </tr>\n",
       "  </tbody>\n",
       "</table>\n",
       "</div>"
      ],
      "text/plain": [
       "    country  length river name\n",
       "164      CO    6448   Amazonas"
      ]
     },
     "execution_count": 40,
     "metadata": {},
     "output_type": "execute_result"
    }
   ],
   "source": [
    "#name and country of a) longest river, b) largest lake and c) airport at highest elevation\n",
    "\n",
    "#Longest River\n",
    "col1 = []\n",
    "col2 = []\n",
    "col3 = []\n",
    "\n",
    "#& (child.find('country') != None)\n",
    "for child in document.getroot():\n",
    "    if ((child.find('length') != None) & ((child.find('located') != None))):\n",
    "        col1.append(child.find('length').text)\n",
    "        col2.append(child.find('located').attrib['country']) \n",
    "        col3.append(child.find('name').text)\n",
    "    \n",
    "d = {'length' : col1,\n",
    "     'country' : col2,\n",
    "     'river name' : col3 }\n",
    "\n",
    "df = pd.DataFrame(d)\n",
    "df['length'] = df['length'].astype(float)\n",
    "df = df.sort('length')\n",
    "df.tail(1)"
   ]
  },
  {
   "cell_type": "code",
   "execution_count": 45,
   "metadata": {
    "collapsed": false
   },
   "outputs": [
    {
     "data": {
      "text/html": [
       "<div style=\"max-height:1000px;max-width:1500px;overflow:auto;\">\n",
       "<table border=\"1\" class=\"dataframe\">\n",
       "  <thead>\n",
       "    <tr style=\"text-align: right;\">\n",
       "      <th></th>\n",
       "      <th>Lake name</th>\n",
       "      <th>area</th>\n",
       "      <th>country</th>\n",
       "    </tr>\n",
       "  </thead>\n",
       "  <tbody>\n",
       "    <tr>\n",
       "      <th>52</th>\n",
       "      <td> Caspian Sea</td>\n",
       "      <td> 386400</td>\n",
       "      <td> R</td>\n",
       "    </tr>\n",
       "  </tbody>\n",
       "</table>\n",
       "</div>"
      ],
      "text/plain": [
       "      Lake name    area country\n",
       "52  Caspian Sea  386400       R"
      ]
     },
     "execution_count": 45,
     "metadata": {},
     "output_type": "execute_result"
    }
   ],
   "source": [
    "#b) largest lake \n",
    "col1 = []\n",
    "col2 = []\n",
    "col3 = []\n",
    "\n",
    "for child in document.iterfind('lake'):\n",
    "    if ((child.find('area') != None) & ((child.find('located') != None))):\n",
    "        col1.append(child.find('area').text) \n",
    "        col2.append(child.find('located').attrib['country'])\n",
    "        col3.append(child.find('name').text)\n",
    "\n",
    "d = {'area' : col1,\n",
    "     'country' : col2,\n",
    "     'Lake name' : col3 }\n",
    "\n",
    "df = pd.DataFrame(d)\n",
    "df['area'] = df['area'].astype(float)\n",
    "df = df.sort('area', ascending = False)\n",
    "df.head(1)\n"
   ]
  },
  {
   "cell_type": "code",
   "execution_count": 47,
   "metadata": {
    "collapsed": false
   },
   "outputs": [
    {
     "data": {
      "text/html": [
       "<div style=\"max-height:1000px;max-width:1500px;overflow:auto;\">\n",
       "<table border=\"1\" class=\"dataframe\">\n",
       "  <thead>\n",
       "    <tr style=\"text-align: right;\">\n",
       "      <th></th>\n",
       "      <th>airport</th>\n",
       "      <th>country</th>\n",
       "      <th>elevation</th>\n",
       "    </tr>\n",
       "  </thead>\n",
       "  <tbody>\n",
       "    <tr>\n",
       "      <th>80</th>\n",
       "      <td> El Alto Intl</td>\n",
       "      <td> BOL</td>\n",
       "      <td> 4063</td>\n",
       "    </tr>\n",
       "  </tbody>\n",
       "</table>\n",
       "</div>"
      ],
      "text/plain": [
       "         airport country  elevation\n",
       "80  El Alto Intl     BOL       4063"
      ]
     },
     "execution_count": 47,
     "metadata": {},
     "output_type": "execute_result"
    }
   ],
   "source": [
    "#c) airport at highest elevation\n",
    "col1 = []\n",
    "col2 = []\n",
    "col3 = []\n",
    "\n",
    "#& (child.find('country') != None)\n",
    "for child in document.iterfind('airport'):\n",
    "    if ((child.find('elevation') != None) & (child.attrib['country'] != None)):\n",
    "        col1.append(child.find('elevation').text)\n",
    "        col2.append(child.attrib['country'])\n",
    "        col3.append(child.find('name').text)\n",
    "\n",
    "d = {'elevation' : col1,\n",
    "     'country' : col2,\n",
    "     'airport' : col3 }\n",
    "\n",
    "df = pd.DataFrame(d)\n",
    "df['elevation'] = df['elevation'].astype(float)\n",
    "df = df.sort('elevation', ascending = False)\n",
    "df.head(1)\n"
   ]
  },
  {
   "cell_type": "code",
   "execution_count": null,
   "metadata": {
    "collapsed": true
   },
   "outputs": [],
   "source": []
  },
  {
   "cell_type": "code",
   "execution_count": null,
   "metadata": {
    "collapsed": true
   },
   "outputs": [],
   "source": []
  },
  {
   "cell_type": "code",
   "execution_count": null,
   "metadata": {
    "collapsed": true
   },
   "outputs": [],
   "source": []
  },
  {
   "cell_type": "code",
   "execution_count": null,
   "metadata": {
    "collapsed": true
   },
   "outputs": [],
   "source": []
  }
 ],
 "metadata": {
  "kernelspec": {
   "display_name": "Python 2",
   "language": "python",
   "name": "python2"
  },
  "language_info": {
   "codemirror_mode": {
    "name": "ipython",
    "version": 2
   },
   "file_extension": ".py",
   "mimetype": "text/x-python",
   "name": "python",
   "nbconvert_exporter": "python",
   "pygments_lexer": "ipython2",
   "version": "2.7.10"
  }
 },
 "nbformat": 4,
 "nbformat_minor": 0
}
